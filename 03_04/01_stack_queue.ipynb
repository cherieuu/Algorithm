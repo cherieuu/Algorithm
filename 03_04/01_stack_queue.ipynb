{
 "cells": [
  {
   "cell_type": "markdown",
   "metadata": {},
   "source": [
    "# Stack & Queue"
   ]
  },
  {
   "cell_type": "markdown",
   "metadata": {},
   "source": [
    " - Stack, Queue는 컴퓨터의 기본적인 자료구조 중 하나이다.\n",
    " - stack & queue는 데이터를 넣고 뽑아내는 방향이 다르다.\n",
    " - 원형 큐, "
   ]
  },
  {
   "cell_type": "markdown",
   "metadata": {},
   "source": [
    "## Stack\n",
    "\n",
    " - stack은 LIFO이다! ( 가장 중요 )\n",
    " - Last in, first out : 가장 늦게 들어온 것이 가장 먼저 나간다.\n",
    " - 데이터의 양쪽 중 한쪽에서만 넣고 빼는 구조이다. (스택 그림 참고)\n",
    " - 테이터 저장소에, 새로 들어오는 위치가 저장소의 맨 윗부분이다.\n",
    " - 데이터를 내보낼 때에도 맨 윗부분에서 데이터가 차례대로 빠져나간다."
   ]
  },
  {
   "cell_type": "markdown",
   "metadata": {},
   "source": [
    "<img src = \"stack.png\" width=\"50%\" height = \"50%\"> "
   ]
  },
  {
   "cell_type": "markdown",
   "metadata": {},
   "source": [
    "### 스택 구조의 사용 예시\n",
    "1. 한글 파일에서 실행취소를 해서 되돌리는 경우! - 역추적이라고도 한다.\n",
    "2. 역순 문자열 만들기!\n",
    "3. 재귀 알고리즘!"
   ]
  },
  {
   "cell_type": "markdown",
   "metadata": {},
   "source": [
    "### push : stack 구조에 데이터(element)를 넣는 함수\n",
    " - push를 수행할 경우, top 부분으로 데이터가 들어간다.\n",
    "\n",
    "### pop : stack 구조에서 데이터를 뽑아오는 함수\n",
    " - pop을 수행할 경우 top 부분에서 데이터를 가져온다.\n",
    " - 다른 말로, 가장 최근에 push했던 데이터가 나온다.\n",
    "\n",
    "### peek : 맨 위의 데이터가 무엇인지 확인하는 함수\n",
    " - peek을 수행할 경우 top의 데이터는 무슨 값을 가지고 있는지 들여다본다.\n",
    " - 가장 최근에 push한 데이터를 확인할 수 있다."
   ]
  },
  {
   "cell_type": "code",
   "execution_count": null,
   "metadata": {},
   "outputs": [],
   "source": []
  },
  {
   "cell_type": "code",
   "execution_count": 2,
   "metadata": {},
   "outputs": [
    {
     "name": "stdout",
     "output_type": "stream",
     "text": [
      "True\n",
      "peek of data : 5\n",
      "5\n",
      "4\n",
      "3\n",
      "2\n",
      "1\n"
     ]
    }
   ],
   "source": [
    "# Node를 이용한 stack 구현\n",
    "# 면접에서 잘 나온다고 한다.\n",
    "\n",
    "class Node:\n",
    "    def __init__(self, data):\n",
    "        self.data = data\n",
    "        self.next = None\n",
    "\n",
    "class Stack1:\n",
    "    def __init__(self):\n",
    "        # head는 맨 꼭대기를 가리키는 head\n",
    "        self.head = None\n",
    "\n",
    "    # stack이 비어있는지 확인\n",
    "    def is_empty(self):\n",
    "        if not self.head:\n",
    "            return True\n",
    "        return False\n",
    "\n",
    "    # 스택에 데이터를 넣는 push\n",
    "    def push(self, data):\n",
    "        new_node = Node(data)\n",
    "        new_node.next = self.head\n",
    "        self.head = new_node\n",
    "        \n",
    "    # stack에서 데이터를 뽑는 pop 함수\n",
    "    def pop(self):\n",
    "        \n",
    "        # 비어있을 경우 가져올 것이 없다.\n",
    "        if self.is_empty():\n",
    "            return None\n",
    "        \n",
    "        # 맨 꼭대기에 있는 데이터를 빼내고,\n",
    "        ret_data = self.head.data\n",
    "        \n",
    "        # 데이터를 빼냈으므로,\n",
    "        # 맨 꼭대기의 다음 value를 head로 놓는다.\n",
    "        self.head = self.head.next\n",
    "\n",
    "        # 맨 꼭대기의 data return\n",
    "        return ret_data\n",
    "\n",
    "    # head의 데이터를 확인\n",
    "    def peek(self):\n",
    "        if self.is_empty():\n",
    "            return None\n",
    "        return self.head.data\n",
    "\n",
    "    \n",
    "if __name__ == \"__main__\":\n",
    "    s = Stack1()\n",
    "\n",
    "    print(s.is_empty()) # True\n",
    "\n",
    "    s.push(1)\n",
    "    s.push(2)\n",
    "    s.push(3)\n",
    "    s.push(4)\n",
    "    s.push(5)\n",
    "    \n",
    "    # 질문! 여기서 맨 꼭대기의 데이터는 무엇일까요?\n",
    "    # 계속해서 pop 함수를 통해 데이터를 빼낼 경우,\n",
    "    # 맨 아래의 데이터는 무슨 데이터일까요?\n",
    "\n",
    "    print(\"peek of data : {}\".format(s.peek())) # 5\n",
    "    \n",
    "    while not s.is_empty():\n",
    "        print(s.pop()) # 5, 4, 3, 2, 1"
   ]
  },
  {
   "cell_type": "code",
   "execution_count": null,
   "metadata": {},
   "outputs": [],
   "source": []
  },
  {
   "cell_type": "code",
   "execution_count": null,
   "metadata": {},
   "outputs": [],
   "source": []
  },
  {
   "cell_type": "markdown",
   "metadata": {},
   "source": [
    "## Queue\n",
    "\n",
    " - Queue는 FIFO이다.\n",
    " - First In First Out,\n",
    " - 가장 먼저 들어와 있는 것이 가장 먼저 나간다는 뜻\n",
    " - stack 구조와 데이터가 들어오고 나가는 위치가 다르다.\n",
    " - Queue 구조는 데이터가 들어오는 것은 Top, 데이터가 나가는 것은 Bottom이다.\n",
    " \n",
    " - https://wayhome25.github.io/cs/2017/04/18/cs-21/\n",
    " - http://tcpschool.com/c/c_memory_structure"
   ]
  },
  {
   "cell_type": "markdown",
   "metadata": {},
   "source": [
    "<img src = \"queue.png\" width=\"70%\" height = \"70%\"> "
   ]
  },
  {
   "cell_type": "markdown",
   "metadata": {},
   "source": [
    "* stack 구조 : top에서만 데이터가 넣고 추출한다.\n",
    "* pop 구조 : top으로 데이터가 들어오고, bottom에서 데이터를 추출한다."
   ]
  },
  {
   "cell_type": "code",
   "execution_count": null,
   "metadata": {},
   "outputs": [],
   "source": [
    "# list를 이용한 Queue의 구현\n",
    "\n",
    "class Queue1(list):\n",
    "    # enqueue == > insert 관용적인 이름\n",
    "    enqueue = list.append\n",
    "    # dequeue == > delete\n",
    "    def dequeue(self):\n",
    "        return self.pop(0)\n",
    "\n",
    "    def is_empty(self):\n",
    "        if not self:\n",
    "            return True\n",
    "        else:\n",
    "            return False\n",
    "\n",
    "    def peek(self):\n",
    "        return self[0]\n",
    "\n",
    "if __name__ == '__main__':\n",
    "    q = Queue1()\n",
    "    q.enqueue(1)\n",
    "    q.enqueue(2)\n",
    "    q.enqueue(3)\n",
    "    q.enqueue(4)\n",
    "    q.enqueue(5)\n",
    "\n",
    "    while not q.is_empty():\n",
    "        print(q.dequeue(), end= ' ') # 1 2 3 4 5"
   ]
  },
  {
   "cell_type": "code",
   "execution_count": null,
   "metadata": {},
   "outputs": [],
   "source": [
    "# Node를 이용한 Queue의 구현\n",
    "# 면접에서 잘 나온다고 한다!!\n",
    "\n",
    "class Node:\n",
    "    def __init__(self, data):\n",
    "        self.data = data\n",
    "        self.next = None\n",
    "\n",
    "class Queue2:\n",
    "    def __init__(self):\n",
    "        # 데이터가 들어올 위치! head\n",
    "        self.head = None\n",
    "        # 데이터를 뽑을 때 사용할 위치! tail\n",
    "        self.tail = None\n",
    "\n",
    "    def is_empty(self):\n",
    "        if not self.head:\n",
    "            return True\n",
    "\n",
    "        return False\n",
    "\n",
    "    # tail로 데이터 넣는 enqueue\n",
    "    def enqueue(self, data):\n",
    "        new_node = Node(data)\n",
    "        \n",
    "        # 아예 비어있는 경우에는 데이터를 넣었을 때,\n",
    "        # head, tail 모두 그 데이터를 가리켜야 한다.\n",
    "        if self.is_empty():\n",
    "            self.head = new_node\n",
    "            self.tail = new_node\n",
    "            return\n",
    "        \n",
    "        # 다른 경우에는,\n",
    "        # 원래 tail의 다음을 새로운 노드와 연결지어주고,\n",
    "        # 새로 들어온 노드를 tail이 가리키게 한다.\n",
    "        self.tail.next = new_node\n",
    "        self.tail = new_node\n",
    "\n",
    "    # head에서 데이터를 빼는 dequeue\n",
    "    def dequeue(self):\n",
    "        if self.is_empty():\n",
    "            return None\n",
    "        \n",
    "        # head의 데이터를 ret_data에 넣고\n",
    "        ret_data = self.head.data\n",
    "        \n",
    "        # head의 next 데이터가 head로 된다.\n",
    "        self.head = self.head.next\n",
    "        return ret_data\n",
    "\n",
    "    def peek(self):\n",
    "        if self.is_empty():\n",
    "            return None\n",
    "\n",
    "        return self.head.data\n",
    "    \n",
    "if __name__ == '__main__':\n",
    "    q = Queue2()\n",
    "    q.enqueue(1)\n",
    "    q.enqueue(2)\n",
    "    q.enqueue(3)\n",
    "    q.enqueue(4)\n",
    "    q.enqueue(5)\n",
    "\n",
    "while not q.is_empty():\n",
    "    print(q.dequeue(), end= ' ') # 1 2 3 4 5"
   ]
  },
  {
   "cell_type": "markdown",
   "metadata": {},
   "source": [
    "# 개인 공부!\n",
    "1. 리스트를 이용해 stack, queue 구조 구현\n",
    "2. Node를 이용해 stack, queue 구조 구현\n",
    "3. 백준 알고리즘\n",
    " -"
   ]
  },
  {
   "cell_type": "code",
   "execution_count": null,
   "metadata": {},
   "outputs": [],
   "source": []
  }
 ],
 "metadata": {
  "kernelspec": {
   "display_name": "Python 3",
   "language": "python",
   "name": "python3"
  },
  "language_info": {
   "codemirror_mode": {
    "name": "ipython",
    "version": 3
   },
   "file_extension": ".py",
   "mimetype": "text/x-python",
   "name": "python",
   "nbconvert_exporter": "python",
   "pygments_lexer": "ipython3",
   "version": "3.7.6"
  }
 },
 "nbformat": 4,
 "nbformat_minor": 4
}
