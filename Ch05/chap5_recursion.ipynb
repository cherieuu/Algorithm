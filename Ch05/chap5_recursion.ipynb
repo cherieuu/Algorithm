{
  "nbformat": 4,
  "nbformat_minor": 0,
  "metadata": {
    "kernelspec": {
      "display_name": "Python 3",
      "language": "python",
      "name": "python3"
    },
    "language_info": {
      "codemirror_mode": {
        "name": "ipython",
        "version": 3
      },
      "file_extension": ".py",
      "mimetype": "text/x-python",
      "name": "python",
      "nbconvert_exporter": "python",
      "pygments_lexer": "ipython3",
      "version": "3.8.5"
    },
    "colab": {
      "name": "chap5_recursion.ipynb",
      "provenance": [],
      "include_colab_link": true
    }
  },
  "cells": [
    {
      "cell_type": "markdown",
      "metadata": {
        "id": "view-in-github",
        "colab_type": "text"
      },
      "source": [
        "<a href=\"https://colab.research.google.com/github/cherieuu/Algorithm/blob/master/Ch05/chap5_recursion.ipynb\" target=\"_parent\"><img src=\"https://colab.research.google.com/assets/colab-badge.svg\" alt=\"Open In Colab\"/></a>"
      ]
    },
    {
      "cell_type": "markdown",
      "metadata": {
        "id": "pVUUm9_2B8rR"
      },
      "source": [
        "# Recursive Algorithm"
      ]
    },
    {
      "cell_type": "markdown",
      "metadata": {
        "id": "OlQSPCLBB8rS"
      },
      "source": [
        "* recursion(재귀) : 어떠한 이벤트에서 자기 자신을 포함하고 다시 자기 자신을 사용하여 정의되는 경우"
      ]
    },
    {
      "cell_type": "markdown",
      "metadata": {
        "id": "Pvuc9j74B8rT"
      },
      "source": [
        "1. 장점\n",
        " - 코드가 간결해진다.\n",
        " - 루프문을 사용하지 않아도 된다.\n",
        "\n",
        "2. 단점\n",
        " - 메모리를 많이 차지한다. ( stack overflow )\n"
      ]
    },
    {
      "cell_type": "code",
      "metadata": {
        "id": "Nvdb0bO3B8rT",
        "outputId": "13bf8ad6-df71-4c50-a58f-6a97d2970578"
      },
      "source": [
        "# 대표적인 예시 : factorial 함수\n",
        "# 0! = 1\n",
        "# n! = n * (n-1) * (n-2) * ... * 1\n",
        "# math 모듈에 factorial 함수가 따로 있음.\n",
        "# 187p 그림 참고\n",
        "\n",
        "def factorial(n: int) -> int:\n",
        "    \"\"\"양의 정수 n의 팩토리얼을 구하는 과정\"\"\"\n",
        "\n",
        "    if n > 0:\n",
        "        print(n)\n",
        "        return n * factorial(n - 1)\n",
        "    else:\n",
        "        return 1\n",
        "\n",
        "print(factorial(10))"
      ],
      "execution_count": null,
      "outputs": [
        {
          "output_type": "stream",
          "text": [
            "10\n",
            "9\n",
            "8\n",
            "7\n",
            "6\n",
            "5\n",
            "4\n",
            "3\n",
            "2\n",
            "1\n",
            "3628800\n"
          ],
          "name": "stdout"
        }
      ]
    },
    {
      "cell_type": "markdown",
      "metadata": {
        "id": "K8quqe5lB8rU"
      },
      "source": [
        "* factorial 함수를 재귀 함수로 만들었을 경우의 시간 복잡도는?\n",
        " - O(n) = n!"
      ]
    },
    {
      "cell_type": "markdown",
      "metadata": {
        "id": "AoAnosN2B8rU"
      },
      "source": [
        "* 직접 재귀와 간접 재귀\n",
        " - direct recursion : 내부에서 자기 자신과 똑같은 함수를 계속 호출하는 경우\n",
        " - indirect recursion : A 함수에서는 B 함수를 호출하고, B 함수에서는 A 함수를 호출하면서 계속 번갈아가면서 호출하는 경우\n"
      ]
    },
    {
      "cell_type": "markdown",
      "metadata": {
        "id": "iuGlUpEYB8rV"
      },
      "source": [
        "### 유클리드 호제법 ( 참고 )\n",
        " - ex. 두 정숫값의 최대공약수(GCD)를 재귀적으로 구하는 방법\n",
        " - 두 정숫값을 정사각형의 두 변의 길이라고 생각하고 활용"
      ]
    },
    {
      "cell_type": "code",
      "metadata": {
        "id": "pGnj-kbeB8rV",
        "outputId": "b92401de-a04e-43b7-d123-54e405869041"
      },
      "source": [
        "def gcd(x: int, y: int) -> int:\n",
        "    \"\"\"정숫값 x와 y의 최대 공약수를 반환\"\"\"\n",
        "    if y == 0:\n",
        "        return x\n",
        "    else:\n",
        "        return gcd(y, x % y)\n",
        "\n",
        "gcd(2,22)"
      ],
      "execution_count": null,
      "outputs": [
        {
          "output_type": "execute_result",
          "data": {
            "text/plain": [
              "2"
            ]
          },
          "metadata": {
            "tags": []
          },
          "execution_count": 2
        }
      ]
    },
    {
      "cell_type": "markdown",
      "metadata": {
        "id": "Ij9jGTXtB8rV"
      },
      "source": [
        "## 5-2 재귀 알고리즘 분석\n",
        "\n",
        "193p 그림 참고"
      ]
    },
    {
      "cell_type": "code",
      "metadata": {
        "id": "4oTFAu9tB8rW",
        "outputId": "071b30f9-d9d6-4f95-e37f-1fbe350df8b5"
      },
      "source": [
        "\n",
        "def recur(n: int) -> int:\n",
        "    \"\"\"순수한 재귀 함수 recur의 구현\"\"\"\n",
        "    \n",
        "    if n > 0:\n",
        "        recur(n - 1)\n",
        "        print(n)\n",
        "        recur(n - 2)\n",
        "\n",
        "x = int(input('정숫값을 입력하세요.: '))\n",
        "\n",
        "recur(x)"
      ],
      "execution_count": null,
      "outputs": [
        {
          "output_type": "stream",
          "text": [
            "정숫값을 입력하세요.:  4\n"
          ],
          "name": "stdin"
        },
        {
          "output_type": "stream",
          "text": [
            "1\n",
            "2\n",
            "3\n",
            "1\n",
            "4\n",
            "1\n",
            "2\n"
          ],
          "name": "stdout"
        }
      ]
    },
    {
      "cell_type": "markdown",
      "metadata": {
        "id": "odiZBqFbB8rW"
      },
      "source": [
        "![recur1.png](attachment:699a35d7-e39a-4083-ba99-e27d26d9ab98.png)"
      ]
    },
    {
      "cell_type": "markdown",
      "metadata": {
        "id": "iHwz4jWCB8rW"
      },
      "source": [
        "* 맨 꼭대기 상자부터 아래 상자로 계단식으로 조사하는 접근 : top-down approach\n",
        " - 하지만, 이 경우에는 인수가 같은 recur()함수를 여러번 불러야 해서 비효율적으로 생각할 수 있다."
      ]
    },
    {
      "cell_type": "markdown",
      "metadata": {
        "id": "bQt-qwifB8rW"
      },
      "source": [
        "* 그렇다면 recur(0), recur(1), recur(2)... 을 먼저 구해서 순차적으로 recur(4)를 구한다면 훨씬 효율적이지 않을까?\n",
        " - 이런 방식이 down-top approach 방식인 Dynamic Programming 기법.\n",
        " - 뒤에서 '이것이 코딩테스트다' 라는 책에서 배울 것이다.\n",
        " \n",
        " - cf) 194p~ 199p는 좀 쓸데 없는 이야기 같아서 pass, recur2 함수도 포함"
      ]
    },
    {
      "cell_type": "code",
      "metadata": {
        "id": "SQhxCTn5B8rX"
      },
      "source": [
        ""
      ],
      "execution_count": null,
      "outputs": []
    },
    {
      "cell_type": "markdown",
      "metadata": {
        "id": "CVO22OR-B8rX"
      },
      "source": [
        "### 하노이의 탑\n",
        " - 작은 원반이 위에, 큰 원반이 아래에 위치하는 규칙을 지키면서 원반을 옮기는 문제.\n",
        " - 200p 참고\n",
        " - 포인트\n",
        "   : 위의 기둥들을 중간 기둥으로 옮긴다 그 후에 중간 기둥에서 끝 기둥으로 옮긴다."
      ]
    },
    {
      "cell_type": "markdown",
      "metadata": {
        "id": "79wsc7DiB8rX"
      },
      "source": [
        ""
      ]
    },
    {
      "cell_type": "code",
      "metadata": {
        "id": "fRM0zXhaB8rX",
        "outputId": "60bc60e8-aaec-4d78-b7b8-39a4d39bf953"
      },
      "source": [
        "# [Do it! 실습 5-6] 하노이의 탑 구현하기\n",
        "\n",
        "\n",
        "\"\"\"원반을 no개를 x 기둥에서 y 기둥으로 옮김\"\"\"\n",
        "def move(no: int, x: int, y: int) -> None:\n",
        "\n",
        "    # 위의 것들을 첫 기둥에서 중간 기둥으로 옮긴다.\n",
        "    if no > 1:\n",
        "        move(no - 1, x, 6 - x - y)\n",
        "\n",
        "    print(f'원반 [{no}]을(를) {x}기둥에서 {y}기둥으로 옮깁니다.')\n",
        "\n",
        "    # 위의 것들을 중간 기둥에서 끝 기둥으로 옮긴다.\n",
        "    if no > 1:\n",
        "        move(no - 1, 6 - x - y, y)\n",
        "\n",
        "print('하노이의 탑을 구현하는 프로그램입니다.')\n",
        "n = int(input('원반의 개수를 입력하세요.: '))\n",
        "\n",
        "move(n, 1, 3)"
      ],
      "execution_count": null,
      "outputs": [
        {
          "output_type": "stream",
          "text": [
            "하노이의 탑을 구현하는 프로그램입니다.\n"
          ],
          "name": "stdout"
        },
        {
          "output_type": "stream",
          "text": [
            "원반의 개수를 입력하세요.:  4\n"
          ],
          "name": "stdin"
        },
        {
          "output_type": "stream",
          "text": [
            "원반 [1]을(를) 1기둥에서 2기둥으로 옮깁니다.\n",
            "원반 [2]을(를) 1기둥에서 3기둥으로 옮깁니다.\n",
            "원반 [1]을(를) 2기둥에서 3기둥으로 옮깁니다.\n",
            "원반 [3]을(를) 1기둥에서 2기둥으로 옮깁니다.\n",
            "원반 [1]을(를) 3기둥에서 1기둥으로 옮깁니다.\n",
            "원반 [2]을(를) 3기둥에서 2기둥으로 옮깁니다.\n",
            "원반 [1]을(를) 1기둥에서 2기둥으로 옮깁니다.\n",
            "원반 [4]을(를) 1기둥에서 3기둥으로 옮깁니다.\n",
            "원반 [1]을(를) 2기둥에서 3기둥으로 옮깁니다.\n",
            "원반 [2]을(를) 2기둥에서 1기둥으로 옮깁니다.\n",
            "원반 [1]을(를) 3기둥에서 1기둥으로 옮깁니다.\n",
            "원반 [3]을(를) 2기둥에서 3기둥으로 옮깁니다.\n",
            "원반 [1]을(를) 1기둥에서 2기둥으로 옮깁니다.\n",
            "원반 [2]을(를) 1기둥에서 3기둥으로 옮깁니다.\n",
            "원반 [1]을(를) 2기둥에서 3기둥으로 옮깁니다.\n"
          ],
          "name": "stdout"
        }
      ]
    },
    {
      "cell_type": "markdown",
      "metadata": {
        "id": "Yify74wcB8rX"
      },
      "source": [
        "* 8퀸 문제\n",
        " - ex. 8x8 체스판에 8개의 퀸이 서로 공격할 수 없도록 배치하는 것\n",
        " - 퀸이 공격할 수 있는 방향은 대각선, 가로, 세로 이렇게 끝에서 끝까지 움직일 수 있다.\n",
        " - 즉, 이 퀸들이 서로 싸울 수 없는 위치에 놓는 것이 point!\n",
        " \n",
        " - 8퀸 문제는 결론적으로 92가지 방법이 있는데,\n",
        " - 퀸을 놓을수 있는 경우는 8*8*...*8  = 8의 8승 = 16,777,216 가지이다. \n"
      ]
    },
    {
      "cell_type": "code",
      "metadata": {
        "id": "Ns02gCafB8rY",
        "outputId": "4924c20d-11ef-4493-a8a0-0e18adcacbee"
      },
      "source": [
        "# [Do it! 실습 5-9] 8퀸 문제 알고리즘 구현하기\n",
        "\n",
        "pos = [0] * 8          # 각 열에 배치한 퀸의 위치\n",
        "flag_a = [False] * 8   # 각 행에 퀸을 배치했는지 체크\n",
        "flag_b = [False] * 15  # 대각선 방향(↙↗)으로 퀸을 배치했는지 체크\n",
        "flag_c = [False] * 15  # 대각선 방향( ↘↖)으로 퀸을 배치했는지 체크\n",
        "\n",
        "def put() -> None:\n",
        "    \"\"\"각 열에 배치한 퀸의 위치를 출력\"\"\"\n",
        "    for i in range(8):\n",
        "        print(f'{pos[i]:2}', end='')\n",
        "    print()\n",
        "\n",
        "def set(i: int) -> None:\n",
        "    \"\"\"i 열의 알맞은 위치에 퀸을 배치\"\"\"\n",
        "    for j in range(8):\n",
        "        if(     not flag_a[j]            # j행에 퀸이 배치 되지 않았다면\n",
        "            and not flag_b[i + j]        # 대각선 방향(↙↗)으로 퀸이 배치 되지 않았다면\n",
        "            and not flag_c[i - j + 7]):  # 대각선 방향( ↘↖)으로 퀸이 배치 되지 않았다면\n",
        "            pos[i] = j  # 퀸을 j행에 배치\n",
        "            if i == 7:  # 모든 열에 퀸을 배치하는 것을 완료\n",
        "                put()\n",
        "            else:\n",
        "                flag_a[j] = flag_b[i + j] = flag_c[i - j + 7] = True\n",
        "                set(i + 1)  # 다음 열에 퀸을 배치\n",
        "                flag_a[j] = flag_b[i + j] = flag_c[i - j + 7] = False\n",
        "\n",
        "set(0)  # 0열에 퀸을 배치"
      ],
      "execution_count": null,
      "outputs": [
        {
          "output_type": "stream",
          "text": [
            " 0 4 7 5 2 6 1 3\n",
            " 0 5 7 2 6 3 1 4\n",
            " 0 6 3 5 7 1 4 2\n",
            " 0 6 4 7 1 3 5 2\n",
            " 1 3 5 7 2 0 6 4\n",
            " 1 4 6 0 2 7 5 3\n",
            " 1 4 6 3 0 7 5 2\n",
            " 1 5 0 6 3 7 2 4\n",
            " 1 5 7 2 0 3 6 4\n",
            " 1 6 2 5 7 4 0 3\n",
            " 1 6 4 7 0 3 5 2\n",
            " 1 7 5 0 2 4 6 3\n",
            " 2 0 6 4 7 1 3 5\n",
            " 2 4 1 7 0 6 3 5\n",
            " 2 4 1 7 5 3 6 0\n",
            " 2 4 6 0 3 1 7 5\n",
            " 2 4 7 3 0 6 1 5\n",
            " 2 5 1 4 7 0 6 3\n",
            " 2 5 1 6 0 3 7 4\n",
            " 2 5 1 6 4 0 7 3\n",
            " 2 5 3 0 7 4 6 1\n",
            " 2 5 3 1 7 4 6 0\n",
            " 2 5 7 0 3 6 4 1\n",
            " 2 5 7 0 4 6 1 3\n",
            " 2 5 7 1 3 0 6 4\n",
            " 2 6 1 7 4 0 3 5\n",
            " 2 6 1 7 5 3 0 4\n",
            " 2 7 3 6 0 5 1 4\n",
            " 3 0 4 7 1 6 2 5\n",
            " 3 0 4 7 5 2 6 1\n",
            " 3 1 4 7 5 0 2 6\n",
            " 3 1 6 2 5 7 0 4\n",
            " 3 1 6 2 5 7 4 0\n",
            " 3 1 6 4 0 7 5 2\n",
            " 3 1 7 4 6 0 2 5\n",
            " 3 1 7 5 0 2 4 6\n",
            " 3 5 0 4 1 7 2 6\n",
            " 3 5 7 1 6 0 2 4\n",
            " 3 5 7 2 0 6 4 1\n",
            " 3 6 0 7 4 1 5 2\n",
            " 3 6 2 7 1 4 0 5\n",
            " 3 6 4 1 5 0 2 7\n",
            " 3 6 4 2 0 5 7 1\n",
            " 3 7 0 2 5 1 6 4\n",
            " 3 7 0 4 6 1 5 2\n",
            " 3 7 4 2 0 6 1 5\n",
            " 4 0 3 5 7 1 6 2\n",
            " 4 0 7 3 1 6 2 5\n",
            " 4 0 7 5 2 6 1 3\n",
            " 4 1 3 5 7 2 0 6\n",
            " 4 1 3 6 2 7 5 0\n",
            " 4 1 5 0 6 3 7 2\n",
            " 4 1 7 0 3 6 2 5\n",
            " 4 2 0 5 7 1 3 6\n",
            " 4 2 0 6 1 7 5 3\n",
            " 4 2 7 3 6 0 5 1\n",
            " 4 6 0 2 7 5 3 1\n",
            " 4 6 0 3 1 7 5 2\n",
            " 4 6 1 3 7 0 2 5\n",
            " 4 6 1 5 2 0 3 7\n",
            " 4 6 1 5 2 0 7 3\n",
            " 4 6 3 0 2 7 5 1\n",
            " 4 7 3 0 2 5 1 6\n",
            " 4 7 3 0 6 1 5 2\n",
            " 5 0 4 1 7 2 6 3\n",
            " 5 1 6 0 2 4 7 3\n",
            " 5 1 6 0 3 7 4 2\n",
            " 5 2 0 6 4 7 1 3\n",
            " 5 2 0 7 3 1 6 4\n",
            " 5 2 0 7 4 1 3 6\n",
            " 5 2 4 6 0 3 1 7\n",
            " 5 2 4 7 0 3 1 6\n",
            " 5 2 6 1 3 7 0 4\n",
            " 5 2 6 1 7 4 0 3\n",
            " 5 2 6 3 0 7 1 4\n",
            " 5 3 0 4 7 1 6 2\n",
            " 5 3 1 7 4 6 0 2\n",
            " 5 3 6 0 2 4 1 7\n",
            " 5 3 6 0 7 1 4 2\n",
            " 5 7 1 3 0 6 4 2\n",
            " 6 0 2 7 5 3 1 4\n",
            " 6 1 3 0 7 4 2 5\n",
            " 6 1 5 2 0 3 7 4\n",
            " 6 2 0 5 7 4 1 3\n",
            " 6 2 7 1 4 0 5 3\n",
            " 6 3 1 4 7 0 2 5\n",
            " 6 3 1 7 5 0 2 4\n",
            " 6 4 2 0 5 7 1 3\n",
            " 7 1 3 0 6 4 2 5\n",
            " 7 1 4 2 0 6 3 5\n",
            " 7 2 0 5 1 4 6 3\n",
            " 7 3 0 2 5 1 6 4\n"
          ],
          "name": "stdout"
        }
      ]
    },
    {
      "cell_type": "markdown",
      "metadata": {
        "id": "of9jKtsaEYCD"
      },
      "source": [
        "-------------------------------"
      ]
    },
    {
      "cell_type": "code",
      "metadata": {
        "colab": {
          "base_uri": "https://localhost:8080/"
        },
        "id": "wvMwDqfxEbRz",
        "outputId": "7af396f3-bab2-43e6-f4cc-f64bb78bf7b3"
      },
      "source": [
        "# 재귀 함수 = 자기 자신을 다시 호출하는 함수\n",
        "# 종료 조건을 반드시 명시\n",
        "# 유의 사항\n",
        "# 오히려 다른 사람이 이해하기 어려운 형태가 될 수 있으므로 신중하게 사용\n",
        "# 모든 재귀함수는 반복문을 이용하여 동일하게 구현가능\n",
        "# 반복문이 더 유리한 경우도 있음\n",
        "# 컴퓨터가 함수를 연속적으로 호출하면 컴퓨터 메모리 내부의 스택 프레임에 쌓임\n",
        "#     그래서 스택을 사용해야 할 때 구현상 스택 라이브러리 대신에 재귀함수를 사용하는 경우가 많음\n",
        "\n",
        "def recursive_function(i):\n",
        "    # 100번째 호출 했을 때 종료\n",
        "    if i == 100:\n",
        "        return\n",
        "    print(f'{i}번째에서 {i+1}번째 호출')\n",
        "    recursive_function(i+1)\n",
        "    print(f'{i}번째 종료')\n",
        "\n",
        "# 팩토리얼 구현\n",
        "\n",
        "def factorial_iterative(n):\n",
        "    result = 1\n",
        "    # 1부터 n까지 수를 차례대로 곱\n",
        "    for i in range(1,n+1):\n",
        "        result *= i\n",
        "    return result\n",
        "\n",
        "# 재귀적으로 구현\n",
        "def factorial_recursive(n):\n",
        "    if n<= 1:  # n이 1 이하인 경우 1\n",
        "        return 1\n",
        "    # n! = n * (n-1)!\n",
        "    return n * factorial_recursive(n-1)\n",
        "\n",
        "print('반복구현 : ', factorial_iterative(5))\n",
        "print('재귀구현 : ', factorial_recursive(5))\n",
        "\n",
        "# 최대 공약수 계산 (유클리드 호제법)\n",
        "# 두 자연수 a,b 에 대하여 a>b에서 a를 b로 나눈 나머지를 r이라고 할때\n",
        "# a와 b의 최대공약수는 b와 r의 최대공약수와 같다\n",
        "# GCD(192, 162)\n",
        "# 1. 192 162\n",
        "# 2. 162 30\n",
        "# 3. 30 12\n",
        "# 4. 12 *6*\n",
        "\n",
        "def gcd(a,b):\n",
        "    if a%b ==0:\n",
        "        return b\n",
        "    else:\n",
        "        return gcd(b, a%b)\n",
        "\n",
        "print(gcd(192,162))\n"
      ],
      "execution_count": 1,
      "outputs": [
        {
          "output_type": "stream",
          "text": [
            "반복구현 :  120\n",
            "재귀구현 :  120\n",
            "6\n"
          ],
          "name": "stdout"
        }
      ]
    },
    {
      "cell_type": "code",
      "metadata": {
        "id": "Zpt8bqD-Ecnz"
      },
      "source": [
        ""
      ],
      "execution_count": null,
      "outputs": []
    }
  ]
}