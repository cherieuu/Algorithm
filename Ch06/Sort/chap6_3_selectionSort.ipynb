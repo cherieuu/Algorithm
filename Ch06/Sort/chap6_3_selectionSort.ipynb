{
 "cells": [
  {
   "cell_type": "markdown",
   "metadata": {},
   "source": [
    "# Selection Sort"
   ]
  },
  {
   "cell_type": "markdown",
   "metadata": {},
   "source": [
    " - 가장 작은 원소를 찾아서 맨 앞에 놓고, 다음으로 작은 원소를 찾아서 2번째에 놓고..\n",
    " - 이렇게 차근차근 selection 해서 sort하는 방법"
   ]
  },
  {
   "cell_type": "markdown",
   "metadata": {},
   "source": [
    "<img src = \"selectionSort.png\"  width=\"50%\" height = \"50%\"> "
   ]
  },
  {
   "cell_type": "code",
   "execution_count": null,
   "metadata": {},
   "outputs": [],
   "source": [
    "# [Do it! 실습 6-6] 단순 선택 정렬 알고리즘 구현\n",
    "\n",
    "from typing import MutableSequence\n",
    "\n",
    "def selection_sort(a: MutableSequence) -> None:\n",
    "    \"\"\"단순 선택 정렬\"\"\"\n",
    "    n = len(a)\n",
    "    for i in range(n - 1):\n",
    "        min = i  # 정렬 할 부분에서 가장 작은 원소의 인덱스\n",
    "        for j in range(i + 1, n):\n",
    "            if a[j] < a[min]:\n",
    "                min = j\n",
    "        a[i], a[min] = a[min], a[i]  # 정렬 할 부분에서 맨 앞의 원소와 가장 작은 원소를 교환 \n",
    "\n",
    "if __name__ == '__main__':\n",
    "    print('단순 선택 정렬을 수행합니다.')\n",
    "    num = int(input('원소 수를 입력하세요.: '))\n",
    "    x = [None] * num  # 원소 수가 num인 배열을 생성\n",
    "\n",
    "    for i in range(num):\n",
    "        x[i] = int(input(f'x[{i}] : '))\n",
    "\n",
    "    selection_sort(x)  # 배열 x를 단순 선택 정렬\n",
    "\n",
    "    print('오름차순으로 정렬했습니다.')\n",
    "    for i in range(num):\n",
    "        print(f'x[{i}] = {x[i]}')"
   ]
  }
 ],
 "metadata": {
  "hide_input": false,
  "kernelspec": {
   "display_name": "Python 3",
   "language": "python",
   "name": "python3"
  },
  "language_info": {
   "codemirror_mode": {
    "name": "ipython",
    "version": 3
   },
   "file_extension": ".py",
   "mimetype": "text/x-python",
   "name": "python",
   "nbconvert_exporter": "python",
   "pygments_lexer": "ipython3",
   "version": "3.9.5"
  },
  "latex_envs": {
   "LaTeX_envs_menu_present": true,
   "autoclose": false,
   "autocomplete": true,
   "bibliofile": "biblio.bib",
   "cite_by": "apalike",
   "current_citInitial": 1,
   "eqLabelWithNumbers": true,
   "eqNumInitial": 1,
   "hotkeys": {
    "equation": "Ctrl-E",
    "itemize": "Ctrl-I"
   },
   "labels_anchors": false,
   "latex_user_defs": false,
   "report_style_numbering": false,
   "user_envs_cfg": false
  },
  "toc": {
   "base_numbering": 1,
   "nav_menu": {},
   "number_sections": true,
   "sideBar": true,
   "skip_h1_title": false,
   "title_cell": "Table of Contents",
   "title_sidebar": "Contents",
   "toc_cell": false,
   "toc_position": {},
   "toc_section_display": true,
   "toc_window_display": false
  },
  "varInspector": {
   "cols": {
    "lenName": 16,
    "lenType": 16,
    "lenVar": 40
   },
   "kernels_config": {
    "python": {
     "delete_cmd_postfix": "",
     "delete_cmd_prefix": "del ",
     "library": "var_list.py",
     "varRefreshCmd": "print(var_dic_list())"
    },
    "r": {
     "delete_cmd_postfix": ") ",
     "delete_cmd_prefix": "rm(",
     "library": "var_list.r",
     "varRefreshCmd": "cat(var_dic_list()) "
    }
   },
   "types_to_exclude": [
    "module",
    "function",
    "builtin_function_or_method",
    "instance",
    "_Feature"
   ],
   "window_display": false
  }
 },
 "nbformat": 4,
 "nbformat_minor": 4
}
