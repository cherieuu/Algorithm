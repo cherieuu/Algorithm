{
 "cells": [
  {
   "cell_type": "code",
   "execution_count": 3,
   "id": "50293997-b437-425b-aa45-36c287878e82",
   "metadata": {},
   "outputs": [
    {
     "name": "stdout",
     "output_type": "stream",
     "text": [
      "True\n",
      "peek of data : 30\n",
      "30\n",
      "24\n",
      "18\n",
      "12\n",
      "6\n"
     ]
    }
   ],
   "source": [
    "class Node:\n",
    "    def __init__(self, data):\n",
    "        self.data=data\n",
    "        self.next=None\n",
    "        \n",
    "class Stack1:\n",
    "    def __init__(self):\n",
    "        self.head=None\n",
    "        \n",
    "    def is_empty(self):\n",
    "        if not self.head:\n",
    "            return True\n",
    "        return False\n",
    "        \n",
    "    def push(self, data):\n",
    "        new_node=Node(data)\n",
    "        new_node.next=self.head\n",
    "        self.head=new_node\n",
    "        \n",
    "    def pop(self):\n",
    "        if self.is_empty():\n",
    "            return None\n",
    "        \n",
    "        ret_data= self.head.data\n",
    "        \n",
    "        self.head = self.head.next\n",
    "        \n",
    "        return ret_data\n",
    "    \n",
    "    def peek(self):\n",
    "        if self.is_empty():\n",
    "            return None\n",
    "        return self.head.data\n",
    "    \n",
    "    \n",
    "if __name__ ==\"__main__\":\n",
    "    s=Stack1()\n",
    "    \n",
    "    print(s.is_empty())\n",
    "    \n",
    "    s.push(6)\n",
    "    s.push(12)\n",
    "    s.push(18)\n",
    "    s.push(24)\n",
    "    s.push(30)\n",
    "    \n",
    "    print(\"peek of data : {}\".format(s.peek()))\n",
    "    \n",
    "    while not s.is_empty():\n",
    "        print(s.pop())"
   ]
  },
  {
   "cell_type": "code",
   "execution_count": 11,
   "id": "52f81fee-4a33-49a2-8628-f2705d91c8d0",
   "metadata": {},
   "outputs": [
    {
     "name": "stdout",
     "output_type": "stream",
     "text": [
      "1 3 5 7 9 "
     ]
    }
   ],
   "source": [
    "# list를 이용한 Queue 구현\n",
    "\n",
    "class Queue1(list):\n",
    "    enqueue = list.append\n",
    "    \n",
    "    def dequeue(self):\n",
    "        return self.pop(0)\n",
    "    \n",
    "    def is_empty(self):\n",
    "        if not self:\n",
    "            return True\n",
    "        else:\n",
    "            return False\n",
    "        \n",
    "    def peek(self):\n",
    "        return self[0]\n",
    "    \n",
    "if __name__ ==\"__main__\":\n",
    "        q = Queue1()\n",
    "        q.enqueue(1)\n",
    "        q.enqueue(3)\n",
    "        q.enqueue(5)\n",
    "        q.enqueue(7)\n",
    "        q.enqueue(9)\n",
    "        \n",
    "        while not q.is_empty():\n",
    "            print(q.dequeue(), end=' ')"
   ]
  },
  {
   "cell_type": "code",
   "execution_count": null,
   "id": "78c6d86c-3bc3-403e-90da-958e3984b316",
   "metadata": {},
   "outputs": [],
   "source": []
  },
  {
   "cell_type": "code",
   "execution_count": 17,
   "id": "49be49f4-f539-4551-a972-ad3dc94c5466",
   "metadata": {},
   "outputs": [
    {
     "name": "stdout",
     "output_type": "stream",
     "text": [
      "2 4 6 8 10 "
     ]
    }
   ],
   "source": [
    "class Node:\n",
    "    def __init__(self, data):\n",
    "        self.data=data\n",
    "        self.next=None\n",
    "\n",
    "class Queue2:\n",
    "    def __init__(self):\n",
    "        self.head=None\n",
    "        self.tail=None\n",
    "        \n",
    "    def is_empty(self):\n",
    "        if not self.head:\n",
    "            return True\n",
    "        return False\n",
    "    \n",
    "    def enqueue(self, data):\n",
    "        new_node =Node(data)\n",
    "        \n",
    "        if self.is_empty():\n",
    "            self.head=new_node\n",
    "            self.tail=new_node\n",
    "            return\n",
    "        \n",
    "        \n",
    "        self.tail.next = new_node\n",
    "        self.tail = new_node\n",
    "        \n",
    "    def dequeue(self):\n",
    "        if self.is_empty():\n",
    "            return None\n",
    "        \n",
    "        ret_data=self.head.data\n",
    "        \n",
    "        self.head = self.head.next\n",
    "        return ret_data\n",
    "    \n",
    "    def peek(self):\n",
    "        if self.is_empty():\n",
    "            return None\n",
    "        \n",
    "        return self.head.data\n",
    "    \n",
    "\n",
    "    \n",
    "if __name__ ==\"__main__\":\n",
    "    q=Queue2()\n",
    "    q.enqueue(2)\n",
    "    q.enqueue(4)\n",
    "    q.enqueue(6)\n",
    "    q.enqueue(8)\n",
    "    q.enqueue(10)\n",
    "    \n",
    "while not q.is_empty():\n",
    "    print(q.dequeue(), end=' ')"
   ]
  },
  {
   "cell_type": "code",
   "execution_count": null,
   "id": "e740ce84-ea6a-4cce-bf92-46dce0cd8cff",
   "metadata": {},
   "outputs": [],
   "source": []
  }
 ],
 "metadata": {
  "kernelspec": {
   "display_name": "Python Multi",
   "language": "python",
   "name": "multi"
  },
  "language_info": {
   "codemirror_mode": {
    "name": "ipython",
    "version": 3
   },
   "file_extension": ".py",
   "mimetype": "text/x-python",
   "name": "python",
   "nbconvert_exporter": "python",
   "pygments_lexer": "ipython3",
   "version": "3.7.6"
  }
 },
 "nbformat": 4,
 "nbformat_minor": 5
}
