{
 "cells": [
  {
   "cell_type": "markdown",
   "id": "efde815c",
   "metadata": {},
   "source": [
    "# 6043\n",
    "실수 2개(f1, f2)를 입력받아\n",
    "f1 을 f2 로 나눈 값을 출력해보자. 이 때 소숫점 넷째자리에서 반올림하여 무조건 소숫점 셋째 자리까지 출력한다.\n",
    "\n",
    "\n",
    "**참고:python 언어에는 나눗셈(division)을 계산하는 연산자(/)가 있다.**\n",
    "\n",
    "\n",
    "컴퓨터 프로그래밍에서 실수 변환이나 실수를 사용하는 계산은 \n",
    "정확하게 변환되거나 계산되는 것이 아니라, 거의 모두 근사값으로 계산되는 것이라고 할 수 있다.  \n",
    "\n",
    "실수가 컴퓨터로 저장되기 위해서는 디지털방식으로 2진 정수화되어 저장되어야 하는데,\n",
    "\n",
    "그 과정에서 아주 작은 부분이 저장되지 않고 사라지는 잘림(truncation) 오차가 자주 발생하기 때문이다.\n",
    "\n",
    "계산 결과값 중에서 믿을 수 있는 숫자의 개수를 의미하는, 유효숫자에 대해 찾아보자. \n",
    "\n",
    "과학실험에서 온도나 부피를 측정할 때에도 유효숫자는 중요하다. "
   ]
  },
  {
   "cell_type": "code",
   "execution_count": null,
   "id": "c4634c69",
   "metadata": {
    "ExecuteTime": {
     "start_time": "2021-07-27T14:36:13.758Z"
    }
   },
   "outputs": [],
   "source": [
    "#내소스1\n",
    "a,b = input().split()\n",
    "a,b = float(a), float(b)\n",
    "print(f'{a/b:.3f}')"
   ]
  },
  {
   "cell_type": "code",
   "execution_count": null,
   "id": "284ff5a5",
   "metadata": {},
   "outputs": [],
   "source": []
  },
  {
   "cell_type": "code",
   "execution_count": null,
   "id": "f746b5ea",
   "metadata": {},
   "outputs": [],
   "source": [
    "#모범소스1\n",
    "a,b=input().split()\n",
    "a=float(a)\n",
    "b=float(b)\n",
    "c=a/b\n",
    "print('%.3f'%c)"
   ]
  },
  {
   "cell_type": "code",
   "execution_count": null,
   "id": "3179eedd",
   "metadata": {},
   "outputs": [],
   "source": [
    "#모범소스2\n",
    "a,b=input().split()\n",
    "a=float(a)\n",
    "b=float(b)\n",
    "c=a/b\n",
    "print(format(c,\".3f\"))"
   ]
  },
  {
   "cell_type": "code",
   "execution_count": null,
   "id": "dfe6f4a6",
   "metadata": {},
   "outputs": [],
   "source": []
  },
  {
   "cell_type": "markdown",
   "id": "6bf1217d",
   "metadata": {},
   "source": [
    "# 6058\n",
    "\n",
    "2개의 정수값이 입력될 때,\n",
    "그 불 값(True/False) 이 모두 False 일 때에만 True 를 출력하는 프로그램을 작성해보자."
   ]
  },
  {
   "cell_type": "code",
   "execution_count": null,
   "id": "2c70ef19",
   "metadata": {},
   "outputs": [],
   "source": [
    "#내소스1\n",
    "a,b=input().split()\n",
    "print(not(bool(int(a))|bool(int(b))))"
   ]
  },
  {
   "cell_type": "code",
   "execution_count": null,
   "id": "34f767ee",
   "metadata": {},
   "outputs": [],
   "source": []
  },
  {
   "cell_type": "code",
   "execution_count": null,
   "id": "a5574dc3",
   "metadata": {},
   "outputs": [],
   "source": [
    "#모범소스1\n",
    "a, b = input().split()\n",
    "c= bool(int(a))\n",
    "d= bool(int(b))\n",
    "\n",
    "print( not (c or d) )"
   ]
  },
  {
   "cell_type": "code",
   "execution_count": null,
   "id": "4d1fc0a4",
   "metadata": {},
   "outputs": [],
   "source": [
    "#모범소스2\n",
    "a, b = input().split()\n",
    "c= bool(int(a))\n",
    "d= bool(int(b))\n",
    "\n",
    "print( c==False and d==False )"
   ]
  },
  {
   "cell_type": "markdown",
   "id": "9aa3f696",
   "metadata": {},
   "source": [
    "# 6064\n",
    "입력된 세 정수 a, b, c 중 가장 작은 값을 출력하는 프로그램을 작성해보자.\n",
    "\n",
    "단, 3항 연산을 사용한다.\n",
    "\n",
    "참고\n",
    "프로그래밍언어 소스코드 작성시 모든 요소들은\n",
    "\n",
    "\"순서에 따라 한 단계씩 실행\"\n",
    "\n",
    "\"미리 정해진 순서에 따라 하나씩 연산 수행\"\n",
    "\n",
    "\"그 때까지 연산된 결과를 이용해 다시 순서에 따라 하나씩 연산\"\n",
    "...\n",
    "등의 원리가 적용된다.\n",
    "\n",
    "따라서 3항 연산을 중첩해(괄호로 묶는 등..) 이용하면 여러 값들을 순서대로 비교해 가장 큰/작은 값을 계산할 수 있다.\n",
    "\n",
    "예를 들어\n",
    "\n",
    "(a if a>b else b) if ((a if a>b else b)>c) else c\n",
    "\n",
    "와 같은 계산식은 a, b, c 의 값 중 가장 큰 값으로 계산된다.\n",
    "\n",
    "잘 이해가 되지 않는다면 어떤 순서에 따라 계산될 지 생각해보고\n",
    "\n",
    "여러 가지 연산자가 동시에 사용된 식이 있을 때, 어떤 우선순위에 따라 순서대로 계산이 되는지 찾아보도록 한다.\n",
    "\n",
    "“연산자 우선순위”를 검색하면 우선순위와 결합방향이 나온다.\n",
    "\n",
    "예를 들어 변수에 어떤 값을 대입하는 대입(assign) 연산자 = 의 우선순위는 가장 낮고, 오른쪽에서 왼쪽의 결합방향을 가진다.\n",
    "\n",
    "**3항 연산은 자주 사용되지는 않지만,\n",
    "복잡한 계산식이나 조건 처리, 비교 구조를 간단히 표현할 수 있게 해준다.**\n"
   ]
  },
  {
   "cell_type": "code",
   "execution_count": null,
   "id": "85c6db0f",
   "metadata": {},
   "outputs": [],
   "source": []
  },
  {
   "cell_type": "code",
   "execution_count": null,
   "id": "45dc8d7d",
   "metadata": {},
   "outputs": [],
   "source": []
  },
  {
   "cell_type": "markdown",
   "id": "94e15b09",
   "metadata": {},
   "source": [
    "# 6079 (다시한번)\n",
    "1, 2, 3 ... 을 계속 더해 나갈 때,\n",
    "\n",
    "그 합이 입력한 정수(0 ~ 1000)보다 같거나 작을 때까지만\n",
    "\n",
    "계속 더하는 프로그램을 작성해보자.\n",
    "\n",
    "즉, 1부터 n까지 정수를 계속 더해 나간다고 할 때,\n",
    "\n",
    "어디까지 더해야 입력한 수보다 같거나 커지는 지를 알아보고자하는 문제이다."
   ]
  },
  {
   "cell_type": "code",
   "execution_count": null,
   "id": "bcb0a31f",
   "metadata": {},
   "outputs": [],
   "source": [
    "#내소스1(서치 도움 받음)\n",
    "result, i = 0, 0\n",
    "a = int(input())\n",
    "while(result < a): # 결과가 입력값보다 작다면 반복\n",
    "  i += 1 #i 는 1부터 (0 입력시 초깃값 0이 출력됨)\n",
    "  result += i\n",
    "print (i) #제일 마지막 i가 출력됨."
   ]
  },
  {
   "cell_type": "code",
   "execution_count": null,
   "id": "9463d946",
   "metadata": {},
   "outputs": [],
   "source": [
    "#모범소스1\n",
    "n = int(input())\n",
    "\n",
    "s = 0\n",
    "t = 0\n",
    "while s<n :\n",
    "  t = t+1\n",
    "  s = s+t\n",
    "  \n",
    "print(t)"
   ]
  },
  {
   "cell_type": "code",
   "execution_count": null,
   "id": "a13b8ccc",
   "metadata": {},
   "outputs": [],
   "source": [
    "# This is an example snippet!\n",
    "# To create your own, add a new snippet block to the\n",
    "# snippets.json file in your jupyter nbextensions directory:\n",
    "# /nbextensions/snippets/snippets.json\n",
    "import this"
   ]
  },
  {
   "cell_type": "markdown",
   "id": "78277e23",
   "metadata": {},
   "source": [
    "# 6080\n",
    "1부터 n까지, 1부터 m까지 숫자가 적힌 서로 다른 주사위 2개를 던졌을 때,\n",
    "\n",
    "나올 수 있는 모든 경우를 출력해보자.\n",
    "\n",
    "</br>\n",
    "예시\n",
    "...\n",
    "for i in range(1, n+1) :\n",
    "  for j in range(1, m+1) :\n",
    "    print(i, j)\n",
    "...\n",
    "\n",
    "참고\n",
    "위 코드는\n",
    "바깥쪽의 i 값이 1부터 n까지 순서대로 바뀌는 각각의 동안에\n",
    "안쪽의 j 값이 다시 1부터 m까지 변하며 출력되는 코드이다.\n",
    "\n",
    "조건선택 실행구조 안에 다른 조건선택 실행구조를 넣어 처리할 수 있는 것과 마찬가지로\n",
    "반복 실행구조 안에 다른 반복 실행구조를 넣어 처리할 수 있다.\n",
    "\n",
    "원하는 형태로 실행 구조를 결합하거나 중첩시킬 수 있다."
   ]
  },
  {
   "cell_type": "code",
   "execution_count": null,
   "id": "f5eb2b7e",
   "metadata": {},
   "outputs": [],
   "source": [
    "#모범소스1\n",
    "n,m=input().split()\n",
    "\n",
    "n=int(n)\n",
    "m=int(m)\n",
    "\n",
    "for i in range(1, n+1) :\n",
    "  for j in range(1, m+1) :\n",
    "    print(i, j)"
   ]
  },
  {
   "cell_type": "code",
   "execution_count": null,
   "id": "da43632b",
   "metadata": {},
   "outputs": [],
   "source": [
    "#내소스1\n",
    "n,m=input().split()\n",
    "n,m=int(n),int(m)\n",
    "for i in range(1,n+1):\n",
    "    for j in range(1, m+1):\n",
    "        print(i,j)"
   ]
  },
  {
   "cell_type": "code",
   "execution_count": null,
   "id": "f2e4e82e",
   "metadata": {},
   "outputs": [],
   "source": []
  },
  {
   "cell_type": "markdown",
   "id": "1aa9171d",
   "metadata": {},
   "source": [
    "# 6081\n",
    "16진수(0, 1, 2, 3, 4, 5, 6, 7, 8, 9, A, B, C, D, E, F)를 배운\n",
    "영일이는 16진수끼리 곱하는 16진수 구구단?에 대해서 궁금해졌다.\n",
    "\n",
    "A, B, C, D, E, F 중 하나가 입력될 때,\n",
    "1부터 F까지 곱한 16진수 구구단의 내용을 출력해보자.\n",
    "(단, A ~ F 까지만 입력된다.)\n",
    "\n",
    "예시\n",
    "...\n",
    " print('%X'%n, '*%X'%i, '=%X'%(n*i), sep='')\n",
    "...\n",
    "\n",
    "참고\n",
    "print('%X'%n)    #n에 저장되어있는 값을 16진수(hexadecimal) 형태로 출력\n",
    "작은 따옴표 2개를 사용해서 print(..., sep='') 으로 출력하면, 공백없이 모두 붙여 출력된다.\n",
    "작은 따옴표 2개 '' 또는 큰 따옴표 2개 \"\" 는 아무 문자도 없는 빈문자열(empty string)을 의미한다."
   ]
  },
  {
   "cell_type": "code",
   "execution_count": null,
   "id": "82b87130",
   "metadata": {},
   "outputs": [],
   "source": [
    "#내소스1\n",
    "n=int(input(),16)\n",
    "for i in range(1,16):\n",
    "  print('%X'%n, '*%X'%i, '=%X'%(n*i), sep='')"
   ]
  },
  {
   "cell_type": "code",
   "execution_count": null,
   "id": "f0e30a40",
   "metadata": {},
   "outputs": [],
   "source": [
    "#모범소스1\n",
    "n = int(input(), 16)\n",
    "\n",
    "for i in range(1, 16) :\n",
    "  print('%X'%n, '*%X'%i, '=%X'%(n*i), sep='')\n",
    "  \n",
    "'''\n",
    "또는\n",
    "print(\"%X*%X=%X\"%(n,i,n*i))\n",
    "\n",
    "'''"
   ]
  }
 ],
 "metadata": {
  "hide_input": false,
  "kernelspec": {
   "display_name": "Python TSA",
   "language": "python",
   "name": "tsa"
  },
  "language_info": {
   "codemirror_mode": {
    "name": "ipython",
    "version": 3
   },
   "file_extension": ".py",
   "mimetype": "text/x-python",
   "name": "python",
   "nbconvert_exporter": "python",
   "pygments_lexer": "ipython3",
   "version": "3.9.5"
  },
  "latex_envs": {
   "LaTeX_envs_menu_present": true,
   "autoclose": false,
   "autocomplete": true,
   "bibliofile": "biblio.bib",
   "cite_by": "apalike",
   "current_citInitial": 1,
   "eqLabelWithNumbers": true,
   "eqNumInitial": 1,
   "hotkeys": {
    "equation": "Ctrl-E",
    "itemize": "Ctrl-I"
   },
   "labels_anchors": false,
   "latex_user_defs": false,
   "report_style_numbering": false,
   "user_envs_cfg": false
  },
  "toc": {
   "base_numbering": 1,
   "nav_menu": {},
   "number_sections": true,
   "sideBar": true,
   "skip_h1_title": false,
   "title_cell": "Table of Contents",
   "title_sidebar": "Contents",
   "toc_cell": false,
   "toc_position": {
    "height": "calc(100% - 180px)",
    "left": "10px",
    "top": "150px",
    "width": "512px"
   },
   "toc_section_display": true,
   "toc_window_display": true
  },
  "varInspector": {
   "cols": {
    "lenName": 16,
    "lenType": 16,
    "lenVar": 40
   },
   "kernels_config": {
    "python": {
     "delete_cmd_postfix": "",
     "delete_cmd_prefix": "del ",
     "library": "var_list.py",
     "varRefreshCmd": "print(var_dic_list())"
    },
    "r": {
     "delete_cmd_postfix": ") ",
     "delete_cmd_prefix": "rm(",
     "library": "var_list.r",
     "varRefreshCmd": "cat(var_dic_list()) "
    }
   },
   "types_to_exclude": [
    "module",
    "function",
    "builtin_function_or_method",
    "instance",
    "_Feature"
   ],
   "window_display": false
  }
 },
 "nbformat": 4,
 "nbformat_minor": 5
}
